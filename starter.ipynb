{
 "cells": [
  {
   "cell_type": "markdown",
   "id": "af09479d-6c7f-41d6-8f5d-2490c50c602c",
   "metadata": {},
   "source": [
    "## Welcome\n",
    "\n",
    "Request data set access through:<br>\n",
    "https://pslcdatashop.web.cmu.edu/Project?id=879<br><br>\n",
    "Then go to this link to download the relevant files:<br>\n",
    "https://pslcdatashop.web.cmu.edu/Files?datasetId=5833"
   ]
  },
  {
   "cell_type": "markdown",
   "id": "1829e5bf-e56f-4e60-bcf5-78b0bb026d0f",
   "metadata": {},
   "source": [
    "## Reading in Data"
   ]
  },
  {
   "cell_type": "code",
   "execution_count": null,
   "id": "bac0b3e8-2102-4aba-9c5e-31e08e5a30ed",
   "metadata": {},
   "outputs": [],
   "source": [
    "import pandas as pd"
   ]
  },
  {
   "cell_type": "markdown",
   "id": "0a07a800-57df-497f-970f-268ebd0a9830",
   "metadata": {},
   "source": [
    "## Event data (fine-grain position logs of teachers)"
   ]
  },
  {
   "cell_type": "code",
   "execution_count": null,
   "id": "c41a9ef7-d6e1-4fb1-bf93-dfa1e93707e5",
   "metadata": {},
   "outputs": [],
   "source": [
    "# Explanation: Every second, a position of a teacher is logged. Actions are classified in the \"content\" category\n",
    "# where actions with target subjects have entries in the \"subject\" column\n",
    "df = pd.read_csv('event_master_file_D10_R500_RNG1000_sprint2_shou (1).csv')"
   ]
  },
  {
   "cell_type": "code",
   "execution_count": null,
   "id": "0653b8d0-5210-4ca7-b970-ccce6bcb228b",
   "metadata": {},
   "outputs": [],
   "source": [
    "# Example aggregation: How many seconds of stop proximity did each student receive?\n",
    "df2 = df[df['content'].map(lambda s: False if not isinstance(s, str) else 'Stopping' in s)].copy() # Remove stop events\n",
    "df2 = df2[df2['subject'].map(lambda s: False if not isinstance(s, str) else 'no student seated' not in s)].copy() # Remove empty seats\n",
    "df2.groupby('subject').size()"
   ]
  },
  {
   "cell_type": "markdown",
   "id": "37692050-2ef5-4a1e-bbd1-c07aa4e56f85",
   "metadata": {},
   "source": [
    "## Observation Events"
   ]
  },
  {
   "cell_type": "code",
   "execution_count": null,
   "id": "3d139808-d18e-4ca1-b0bb-c3191a285fb9",
   "metadata": {},
   "outputs": [],
   "source": [
    "# Time-stamped observation note events of humans present in the classroom. Includes visits to students and \n",
    "# other relevant teacher behaviors. Often, the subject can be specific seats. \n",
    "df = pd.read_csv('observation_events_anonymized (1).tsv', sep='\\t')"
   ]
  },
  {
   "cell_type": "code",
   "execution_count": null,
   "id": "404cecbc-8376-4c49-8dfc-84734fe028b2",
   "metadata": {},
   "outputs": [],
   "source": [
    "## Would need to join student IDs to seat numbers to merge with other student data.\n",
    "df_seats = pd.read_csv('student_position_sprint1_shou (1).csv')"
   ]
  },
  {
   "cell_type": "code",
   "execution_count": null,
   "id": "a7b07c5b-fc4e-4f15-8c8c-55ba9fa763d0",
   "metadata": {},
   "outputs": [],
   "source": [
    "# Example aggregation: What were the most common activities in different periods?\n",
    "import matplotlib.pyplot as plt\n",
    "grouped = df.groupby(['periodID', 'event']).size().unstack()\n",
    "grouped.plot(kind='bar', stacked=True, figsize=(10, 6))\n",
    "\n",
    "plt.title(\"Most Common Activities in Different Periods\")\n",
    "plt.xlabel(\"Period ID\")\n",
    "plt.ylabel(\"Count\")\n",
    "plt.legend(title=\"Event\", bbox_to_anchor=(1.05, 1), loc='upper left')\n",
    "plt.tight_layout()\n",
    "plt.show()"
   ]
  },
  {
   "cell_type": "markdown",
   "id": "1bd321a4-94d8-4da1-9395-28ea58d9a904",
   "metadata": {},
   "source": [
    "## Meta Data"
   ]
  },
  {
   "cell_type": "code",
   "execution_count": null,
   "id": "8df27bc7-4644-4291-8e00-c9bf340009b1",
   "metadata": {},
   "outputs": [],
   "source": [
    "# Several outcomes of interest on the student level. Typical outcomes are \"ck_lg\": conceptual learning gain\n",
    "# and \"pk_lg\": procedural learning gain\n",
    "df = pd.read_csv('meta-data-aied (1).csv')"
   ]
  },
  {
   "cell_type": "code",
   "execution_count": null,
   "id": "44fae6cc-b85b-4396-ae96-0bc0789db91e",
   "metadata": {},
   "outputs": [],
   "source": [
    "# Will have to join this with the following crosswalk to merge it with the teacher position file\n",
    "df_crosswalk = pd.read_csv('crosswalk.csv')\n",
    "# Also available in pd.read_csv('student_position_sprint1_shou (1).csv')"
   ]
  },
  {
   "cell_type": "markdown",
   "id": "c9a926cd-37f0-4a34-80b4-d72503fdf9fb",
   "metadata": {},
   "source": [
    "## Log Data from Tutoring System"
   ]
  },
  {
   "cell_type": "code",
   "execution_count": null,
   "id": "db285245-0490-4808-b226-1d8cac3e42e7",
   "metadata": {},
   "outputs": [],
   "source": [
    "df = pd.read_csv('tutor_log_anonymized (1).tsv', sep='\\t')"
   ]
  },
  {
   "cell_type": "code",
   "execution_count": null,
   "id": "ae512aa9-b0d8-4252-872d-6372ba377082",
   "metadata": {},
   "outputs": [],
   "source": [
    "df.head()"
   ]
  },
  {
   "cell_type": "code",
   "execution_count": null,
   "id": "9ce6d840-9cc4-4661-ab7a-c2e920fd86b9",
   "metadata": {},
   "outputs": [],
   "source": [
    "# Documentation: https://pslcdatashop.web.cmu.edu/help?page=importFormatTd\n",
    "# Best to work with me if you are interested in analyzing this data set."
   ]
  }
 ],
 "metadata": {
  "kernelspec": {
   "display_name": "Python 3 (ipykernel)",
   "language": "python",
   "name": "python3"
  },
  "language_info": {
   "codemirror_mode": {
    "name": "ipython",
    "version": 3
   },
   "file_extension": ".py",
   "mimetype": "text/x-python",
   "name": "python",
   "nbconvert_exporter": "python",
   "pygments_lexer": "ipython3",
   "version": "3.10.14"
  }
 },
 "nbformat": 4,
 "nbformat_minor": 5
}
